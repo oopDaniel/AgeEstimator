{
 "cells": [
  {
   "cell_type": "code",
   "execution_count": 1,
   "metadata": {},
   "outputs": [],
   "source": [
    "import sys\n",
    "import os\n",
    "\n",
    "# Workaround to make packages work in both Jupyter notebook and Python\n",
    "module_root_name = \"AgeEstimator\"\n",
    "module_paths = [\n",
    "    os.path.abspath(os.path.join('..')),\n",
    "    os.path.abspath(os.path.join('../..')),\n",
    "    os.path.abspath(os.path.join('../../..'))\n",
    "]\n",
    "module_paths = list(filter(lambda x: x.endswith(module_root_name), module_paths))\n",
    "module_path = module_paths[0] if len(module_paths) == 1 else \"\"\n",
    "if module_path not in sys.path:\n",
    "    sys.path.append(module_path)\n",
    "\n",
    "from server.data.dataset import DataLoader\n",
    "\n",
    "dl = DataLoader()\n",
    "x_train, y_train = dl.load_train()\n",
    "x_test, y_test = dl.load_test()"
   ]
  },
  {
   "cell_type": "code",
   "execution_count": 2,
   "metadata": {},
   "outputs": [],
   "source": [
    "import time\n",
    "import pandas as pd\n",
    "import numpy as np\n",
    "from scipy.ndimage import filters\n",
    "from PIL import Image, ImageFilter \n",
    "from torchvision import transforms\n",
    "from torch.utils.data import DataLoader\n",
    "from torch.utils.data import SubsetRandomSampler\n",
    "from torch.utils.data import Dataset\n",
    "import torch\n",
    "\n",
    "import matplotlib.pyplot as plt\n",
    "%matplotlib inline"
   ]
  },
  {
   "cell_type": "code",
   "execution_count": 3,
   "metadata": {},
   "outputs": [],
   "source": [
    "# create csv files\n",
    "df_train = pd.DataFrame(x_train, columns=['filename'])\n",
    "df_train['age'] = pd.Series(y_train)\n",
    "# df_train.head()"
   ]
  },
  {
   "cell_type": "code",
   "execution_count": 4,
   "metadata": {},
   "outputs": [],
   "source": [
    "df_test = pd.DataFrame(x_test, columns=['filename'])\n",
    "df_test['age'] = pd.Series(y_test)\n",
    "# df_test.head()"
   ]
  },
  {
   "cell_type": "code",
   "execution_count": 5,
   "metadata": {},
   "outputs": [],
   "source": [
    "df_train.to_csv('training_set.csv', index=False)\n",
    "df_test.to_csv('test_set.csv', index=False)"
   ]
  },
  {
   "cell_type": "code",
   "execution_count": 6,
   "metadata": {},
   "outputs": [
    {
     "name": "stdout",
     "output_type": "stream",
     "text": [
      "Number of training examples: 149724\n",
      "Number of test examples: 37430\n"
     ]
    }
   ],
   "source": [
    "print(f'Number of training examples: {df_train.shape[0]}')\n",
    "print(f'Number of test examples: {df_test.shape[0]}')"
   ]
  },
  {
   "cell_type": "code",
   "execution_count": 7,
   "metadata": {},
   "outputs": [
    {
     "name": "stdout",
     "output_type": "stream",
     "text": [
      "116 110\n"
     ]
    }
   ],
   "source": [
    "train_max = df_train.max()['age']\n",
    "test_max = df_test.max()['age']\n",
    "print(train_max, test_max)"
   ]
  },
  {
   "cell_type": "code",
   "execution_count": 8,
   "metadata": {},
   "outputs": [
    {
     "name": "stdout",
     "output_type": "stream",
     "text": [
      "Number of age labels: 102\n"
     ]
    }
   ],
   "source": [
    "num_ages = np.unique(df_train['age'].values).shape[0]\n",
    "print(f'Number of age labels: {num_ages}')"
   ]
  },
  {
   "cell_type": "code",
   "execution_count": 9,
   "metadata": {},
   "outputs": [
    {
     "data": {
      "image/png": "[encoded data removed]",
      "text/plain": [
       "<Figure size 432x288 with 1 Axes>"
      ]
     },
     "metadata": {
      "needs_background": "light"
     },
     "output_type": "display_data"
    }
   ],
   "source": [
    "histogram = df_train['age'].hist(bins=df_train['age'].nunique())"
   ]
  },
  {
   "cell_type": "code",
   "execution_count": 10,
   "metadata": {},
   "outputs": [
    {
     "data": {
      "image/png": "[encoded data removed]",
      "text/plain": [
       "<Figure size 432x288 with 1 Axes>"
      ]
     },
     "metadata": {
      "needs_background": "light"
     },
     "output_type": "display_data"
    }
   ],
   "source": [
    "histogram = df_test['age'].hist(bins=df_test['age'].nunique())"
   ]
  },
  {
   "cell_type": "code",
   "execution_count": 11,
   "metadata": {},
   "outputs": [],
   "source": [
    "class DatasetAge(Dataset):\n",
    "    \"\"\"Custom Dataset for loading images\"\"\"\n",
    "\n",
    "    def __init__(self, csv_path, transform=None):\n",
    "\n",
    "        df = pd.read_csv(csv_path)\n",
    "        self.csv_path = csv_path\n",
    "        self.df = df\n",
    "        self.y = df['age'].values\n",
    "        self.transform = transform\n",
    "\n",
    "    def __getitem__(self, index):\n",
    "        img = Image.open(self.df.iloc[index]['filename']).convert('L')\n",
    "        img = img.filter(ImageFilter.UnsharpMask(radius=2, percent=150, threshold=3))\n",
    "        if self.transform is not None:\n",
    "            img = self.transform(img)\n",
    "\n",
    "        label = self.y[index]\n",
    "\n",
    "        return img, label\n",
    "\n",
    "    def __len__(self):\n",
    "        return self.y.shape[0]"
   ]
  },
  {
   "cell_type": "code",
   "execution_count": 12,
   "metadata": {},
   "outputs": [],
   "source": [
    "TRAIN_CSV_PATH = 'training_set.csv'\n",
    "TEST_CSV_PATH = 'test_set.csv'\n",
    "BATCH_SIZE = 64"
   ]
  },
  {
   "cell_type": "code",
   "execution_count": 13,
   "metadata": {},
   "outputs": [],
   "source": [
    "train_indices = torch.arange(0, df_train.shape[0]-1000).numpy()\n",
    "valid_indices = torch.arange(df_train.shape[0]-1000, df_train.shape[0]).numpy()\n",
    "\n",
    "train_sampler = SubsetRandomSampler(train_indices)\n",
    "valid_sampler = SubsetRandomSampler(valid_indices)\n",
    "\n",
    "\n",
    "\n",
    "transform = transforms.Compose([transforms.ToTensor()])\n",
    "\n",
    "train_dataset = DatasetAge(csv_path=TRAIN_CSV_PATH, transform=transform)\n",
    "valid_dataset = DatasetAge(csv_path=TRAIN_CSV_PATH, transform=transform)\n",
    "test_dataset = DatasetAge(csv_path=TEST_CSV_PATH, transform=transform)\n",
    "\n",
    "train_loader = DataLoader(train_dataset, batch_size=BATCH_SIZE,sampler=train_sampler)\n",
    "valid_loader = DataLoader(valid_dataset, batch_size=BATCH_SIZE,sampler=valid_sampler)\n",
    "test_loader = DataLoader(dataset=test_dataset, batch_size=BATCH_SIZE, shuffle=False)\n",
    "\n"
   ]
  },
  {
   "cell_type": "code",
   "execution_count": 14,
   "metadata": {},
   "outputs": [],
   "source": [
    "from torch.autograd import Variable\n",
    "class LogisticRegression(torch.nn.Module):\n",
    "    def __init__(self, inputSize, outputSize):\n",
    "        super().__init__()\n",
    "        self.linear = torch.nn.Linear(inputSize, outputSize)\n",
    "\n",
    "    def forward(self, x):\n",
    "        out = self.linear(x)\n",
    "        return out"
   ]
  },
  {
   "cell_type": "code",
   "execution_count": 15,
   "metadata": {},
   "outputs": [],
   "source": [
    "epochs = 30\n",
    "inputDim = 250*250\n",
    "outputDim = 121\n",
    "learningRate = 0.001 \n",
    "\n",
    "model = LogisticRegression(inputDim, outputDim)\n",
    "criterion = torch.nn.CrossEntropyLoss() \n",
    "optimizer = torch.optim.Adam(model.parameters(), lr=learningRate)"
   ]
  },
  {
   "cell_type": "code",
   "execution_count": 16,
   "metadata": {},
   "outputs": [],
   "source": [
    "def compute_mae_mse_acc(model, data_loader):\n",
    "    mae, mse, acc, num_examples = 0., 0., 0, 0\n",
    "    for i, (images, labels) in enumerate(data_loader):\n",
    "\n",
    "        images = Variable(images.view(-1, inputDim))\n",
    "        labels = Variable(labels)\n",
    "\n",
    "        outputs = model(images)\n",
    "        _, predicted = torch.max(outputs, 1)\n",
    "        num_examples += labels.size(0)\n",
    "        acc += torch.sum(predicted == labels)\n",
    "        mae += torch.sum(torch.abs(predicted - labels))\n",
    "        mse += torch.sum((predicted - labels)**2)\n",
    "    acc = acc.float() / num_examples   \n",
    "    mae = mae.float() / num_examples\n",
    "    mse = mse.float() / num_examples\n",
    "    return mae, mse, acc"
   ]
  },
  {
   "cell_type": "code",
   "execution_count": 17,
   "metadata": {},
   "outputs": [
    {
     "name": "stdout",
     "output_type": "stream",
     "text": [
      "Epoch: 001/050 | Batch 400/2324 | Loss: 3.9684\n",
      "Epoch: 001/050 | Batch 800/2324 | Loss: 4.0028\n",
      "Epoch: 001/050 | Batch 1200/2324 | Loss: 3.9549\n",
      "Epoch: 001/050 | Batch 1600/2324 | Loss: 3.9348\n",
      "Epoch: 001/050 | Batch 2000/2324 | Loss: 4.0026\n",
      "Epoch: 001/050 | Batch 2324/2324 | Loss: 3.9628\n",
      "Epoch: 001/050\n",
      "Train MAE: 11.41 | Validation MAE: 11.50\n",
      "Time elapsed: 28.06 min\n",
      "Epoch: 002/050 | Batch 400/2324 | Loss: 3.7954\n",
      "Epoch: 002/050 | Batch 800/2324 | Loss: 3.7825\n",
      "Epoch: 002/050 | Batch 1200/2324 | Loss: 3.8169\n",
      "Epoch: 002/050 | Batch 1600/2324 | Loss: 3.8658\n",
      "Epoch: 002/050 | Batch 2000/2324 | Loss: 3.9446\n",
      "Epoch: 002/050 | Batch 2324/2324 | Loss: 3.7776\n",
      "Epoch: 002/050\n",
      "Train MAE: 10.69 | Validation MAE: 10.70\n",
      "Time elapsed: 27.46 min\n",
      "Epoch: 003/050 | Batch 400/2324 | Loss: 3.7267\n",
      "Epoch: 003/050 | Batch 800/2324 | Loss: 4.0148\n",
      "Epoch: 003/050 | Batch 1200/2324 | Loss: 4.0003\n",
      "Epoch: 003/050 | Batch 1600/2324 | Loss: 3.7743\n",
      "Epoch: 003/050 | Batch 2000/2324 | Loss: 3.7512\n",
      "Epoch: 003/050 | Batch 2324/2324 | Loss: 3.8371\n",
      "Epoch: 003/050\n",
      "Train MAE: 11.80 | Validation MAE: 12.41\n",
      "Time elapsed: 27.59 min\n",
      "Epoch: 004/050 | Batch 400/2324 | Loss: 3.9066\n",
      "Epoch: 004/050 | Batch 800/2324 | Loss: 3.7827\n",
      "Epoch: 004/050 | Batch 1200/2324 | Loss: 3.8573\n",
      "Epoch: 004/050 | Batch 1600/2324 | Loss: 3.7054\n",
      "Epoch: 004/050 | Batch 2000/2324 | Loss: 3.7901\n",
      "Epoch: 004/050 | Batch 2324/2324 | Loss: 3.7316\n",
      "Epoch: 004/050\n",
      "Train MAE: 12.00 | Validation MAE: 12.70\n",
      "Time elapsed: 27.61 min\n",
      "Epoch: 005/050 | Batch 400/2324 | Loss: 3.5619\n",
      "Epoch: 005/050 | Batch 800/2324 | Loss: 3.7899\n",
      "Epoch: 005/050 | Batch 1200/2324 | Loss: 3.7258\n",
      "Epoch: 005/050 | Batch 1600/2324 | Loss: 3.6617\n",
      "Epoch: 005/050 | Batch 2000/2324 | Loss: 3.8183\n",
      "Epoch: 005/050 | Batch 2324/2324 | Loss: 3.7457\n",
      "Epoch: 005/050\n",
      "Train MAE: 10.90 | Validation MAE: 11.42\n",
      "Time elapsed: 27.70 min\n",
      "Epoch: 006/050 | Batch 400/2324 | Loss: 3.7611\n",
      "Epoch: 006/050 | Batch 800/2324 | Loss: 3.8028\n",
      "Epoch: 006/050 | Batch 1200/2324 | Loss: 3.8276\n",
      "Epoch: 006/050 | Batch 1600/2324 | Loss: 3.6668\n",
      "Epoch: 006/050 | Batch 2000/2324 | Loss: 3.7484\n",
      "Epoch: 006/050 | Batch 2324/2324 | Loss: 3.6316\n",
      "Epoch: 006/050\n",
      "Train MAE: 11.07 | Validation MAE: 11.55\n",
      "Time elapsed: 54.51 min\n",
      "Epoch: 007/050 | Batch 400/2324 | Loss: 3.5534\n",
      "Epoch: 007/050 | Batch 800/2324 | Loss: 3.7547\n",
      "Epoch: 007/050 | Batch 1200/2324 | Loss: 3.6995\n",
      "Epoch: 007/050 | Batch 1600/2324 | Loss: 3.6334\n",
      "Epoch: 007/050 | Batch 2000/2324 | Loss: 3.7719\n",
      "Epoch: 007/050 | Batch 2324/2324 | Loss: 3.7214\n",
      "Epoch: 007/050\n",
      "Train MAE: 10.49 | Validation MAE: 11.08\n",
      "Time elapsed: 27.62 min\n",
      "Epoch: 008/050 | Batch 400/2324 | Loss: 3.6642\n",
      "Epoch: 008/050 | Batch 800/2324 | Loss: 3.6098\n",
      "Epoch: 008/050 | Batch 1200/2324 | Loss: 3.7333\n",
      "Epoch: 008/050 | Batch 1600/2324 | Loss: 3.5995\n",
      "Epoch: 008/050 | Batch 2000/2324 | Loss: 3.7189\n",
      "Epoch: 008/050 | Batch 2324/2324 | Loss: 3.8371\n",
      "Epoch: 008/050\n",
      "Train MAE: 11.43 | Validation MAE: 11.81\n",
      "Time elapsed: 27.47 min\n",
      "Epoch: 009/050 | Batch 400/2324 | Loss: 3.7351\n",
      "Epoch: 009/050 | Batch 800/2324 | Loss: 3.6201\n",
      "Epoch: 009/050 | Batch 1200/2324 | Loss: 3.9031\n",
      "Epoch: 009/050 | Batch 1600/2324 | Loss: 3.7891\n",
      "Epoch: 009/050 | Batch 2000/2324 | Loss: 3.4943\n",
      "Epoch: 009/050 | Batch 2324/2324 | Loss: 3.6674\n",
      "Epoch: 009/050\n",
      "Train MAE: 11.52 | Validation MAE: 12.06\n",
      "Time elapsed: 27.62 min\n",
      "Epoch: 010/050 | Batch 400/2324 | Loss: 3.5696\n",
      "Epoch: 010/050 | Batch 800/2324 | Loss: 3.7421\n",
      "Epoch: 010/050 | Batch 1200/2324 | Loss: 3.6875\n",
      "Epoch: 010/050 | Batch 1600/2324 | Loss: 3.8050\n",
      "Epoch: 010/050 | Batch 2000/2324 | Loss: 3.5937\n",
      "Epoch: 010/050 | Batch 2324/2324 | Loss: 3.5609\n",
      "Epoch: 010/050\n",
      "Train MAE: 11.06 | Validation MAE: 11.64\n",
      "Time elapsed: 27.48 min\n",
      "Epoch: 011/050 | Batch 400/2324 | Loss: 3.6070\n",
      "Epoch: 011/050 | Batch 800/2324 | Loss: 3.4922\n",
      "Epoch: 011/050 | Batch 1200/2324 | Loss: 3.5743\n",
      "Epoch: 011/050 | Batch 1600/2324 | Loss: 3.5643\n",
      "Epoch: 011/050 | Batch 2000/2324 | Loss: 3.5811\n",
      "Epoch: 011/050 | Batch 2324/2324 | Loss: 3.6814\n",
      "Epoch: 011/050\n",
      "Train MAE: 10.82 | Validation MAE: 11.33\n",
      "Time elapsed: 27.47 min\n",
      "Epoch: 012/050 | Batch 400/2324 | Loss: 3.6371\n",
      "Epoch: 012/050 | Batch 800/2324 | Loss: 3.7356\n",
      "Epoch: 012/050 | Batch 1200/2324 | Loss: 3.5927\n",
      "Epoch: 012/050 | Batch 1600/2324 | Loss: 3.7255\n",
      "Epoch: 012/050 | Batch 2000/2324 | Loss: 3.7898\n",
      "Epoch: 012/050 | Batch 2324/2324 | Loss: 3.7360\n",
      "Epoch: 012/050\n",
      "Train MAE: 10.63 | Validation MAE: 11.22\n",
      "Time elapsed: 49.40 min\n",
      "Epoch: 013/050 | Batch 400/2324 | Loss: 3.6044\n",
      "Epoch: 013/050 | Batch 800/2324 | Loss: 3.7361\n",
      "Epoch: 013/050 | Batch 1200/2324 | Loss: 3.5604\n",
      "Epoch: 013/050 | Batch 1600/2324 | Loss: 3.6611\n",
      "Epoch: 013/050 | Batch 2000/2324 | Loss: 3.6539\n",
      "Epoch: 013/050 | Batch 2324/2324 | Loss: 3.8460\n",
      "Epoch: 013/050\n",
      "Train MAE: 11.34 | Validation MAE: 11.72\n",
      "Time elapsed: 27.50 min\n",
      "Epoch: 014/050 | Batch 400/2324 | Loss: 3.6816\n",
      "Epoch: 014/050 | Batch 800/2324 | Loss: 3.5403\n",
      "Epoch: 014/050 | Batch 1200/2324 | Loss: 3.6196\n",
      "Epoch: 014/050 | Batch 1600/2324 | Loss: 3.5273\n",
      "Epoch: 014/050 | Batch 2000/2324 | Loss: 3.5041\n",
      "Epoch: 014/050 | Batch 2324/2324 | Loss: 3.5375\n",
      "Epoch: 014/050\n",
      "Train MAE: 11.58 | Validation MAE: 12.09\n",
      "Time elapsed: 27.43 min\n",
      "Epoch: 015/050 | Batch 400/2324 | Loss: 3.4176\n",
      "Epoch: 015/050 | Batch 800/2324 | Loss: 3.4498\n",
      "Epoch: 015/050 | Batch 1200/2324 | Loss: 3.6205\n",
      "Epoch: 015/050 | Batch 1600/2324 | Loss: 3.5753\n",
      "Epoch: 015/050 | Batch 2000/2324 | Loss: 3.7746\n",
      "Epoch: 015/050 | Batch 2324/2324 | Loss: 3.6952\n",
      "Epoch: 015/050\n",
      "Train MAE: 10.85 | Validation MAE: 11.55\n",
      "Time elapsed: 27.49 min\n",
      "Epoch: 016/050 | Batch 400/2324 | Loss: 3.4746\n",
      "Epoch: 016/050 | Batch 800/2324 | Loss: 3.5013\n",
      "Epoch: 016/050 | Batch 1200/2324 | Loss: 3.5220\n",
      "Epoch: 016/050 | Batch 1600/2324 | Loss: 3.5148\n",
      "Epoch: 016/050 | Batch 2000/2324 | Loss: 3.7390\n",
      "Epoch: 016/050 | Batch 2324/2324 | Loss: 3.6349\n",
      "Epoch: 016/050\n",
      "Train MAE: 11.57 | Validation MAE: 12.12\n",
      "Time elapsed: 27.48 min\n",
      "Epoch: 017/050 | Batch 400/2324 | Loss: 3.4684\n",
      "Epoch: 017/050 | Batch 800/2324 | Loss: 3.5198\n",
      "Epoch: 017/050 | Batch 1200/2324 | Loss: 3.5368\n",
      "Epoch: 017/050 | Batch 1600/2324 | Loss: 3.6019\n",
      "Epoch: 017/050 | Batch 2000/2324 | Loss: 3.5899\n",
      "Epoch: 017/050 | Batch 2324/2324 | Loss: 3.6743\n",
      "Epoch: 017/050\n",
      "Train MAE: 11.12 | Validation MAE: 11.97\n",
      "Time elapsed: 27.50 min\n",
      "Epoch: 018/050 | Batch 400/2324 | Loss: 3.4718\n",
      "Epoch: 018/050 | Batch 800/2324 | Loss: 3.4428\n",
      "Epoch: 018/050 | Batch 1200/2324 | Loss: 3.6441\n",
      "Epoch: 018/050 | Batch 1600/2324 | Loss: 3.7067\n",
      "Epoch: 018/050 | Batch 2000/2324 | Loss: 3.4706\n",
      "Epoch: 018/050 | Batch 2324/2324 | Loss: 3.5436\n",
      "Epoch: 018/050\n",
      "Train MAE: 11.81 | Validation MAE: 12.54\n",
      "Time elapsed: 27.51 min\n",
      "Epoch: 019/050 | Batch 400/2324 | Loss: 3.3603\n",
      "Epoch: 019/050 | Batch 800/2324 | Loss: 3.4608\n",
      "Epoch: 019/050 | Batch 1200/2324 | Loss: 3.5393\n",
      "Epoch: 019/050 | Batch 1600/2324 | Loss: 3.4360\n",
      "Epoch: 019/050 | Batch 2000/2324 | Loss: 3.6213\n",
      "Epoch: 019/050 | Batch 2324/2324 | Loss: 3.5082\n",
      "Epoch: 019/050\n",
      "Train MAE: 11.69 | Validation MAE: 12.30\n",
      "Time elapsed: 27.55 min\n",
      "Epoch: 020/050 | Batch 400/2324 | Loss: 3.3594\n",
      "Epoch: 020/050 | Batch 800/2324 | Loss: 3.4131\n",
      "Epoch: 020/050 | Batch 1200/2324 | Loss: 3.4472\n",
      "Epoch: 020/050 | Batch 1600/2324 | Loss: 3.5079\n",
      "Epoch: 020/050 | Batch 2000/2324 | Loss: 3.5433\n",
      "Epoch: 020/050 | Batch 2324/2324 | Loss: 3.6400\n",
      "Epoch: 020/050\n",
      "Train MAE: 11.30 | Validation MAE: 11.98\n",
      "Time elapsed: 27.62 min\n",
      "Epoch: 021/050 | Batch 400/2324 | Loss: 3.5534\n",
      "Epoch: 021/050 | Batch 800/2324 | Loss: 3.3621\n",
      "Epoch: 021/050 | Batch 1200/2324 | Loss: 3.6254\n",
      "Epoch: 021/050 | Batch 1600/2324 | Loss: 3.5569\n",
      "Epoch: 021/050 | Batch 2000/2324 | Loss: 3.5155\n",
      "Epoch: 021/050 | Batch 2324/2324 | Loss: 3.5139\n",
      "Epoch: 021/050\n",
      "Train MAE: 11.52 | Validation MAE: 12.05\n",
      "Time elapsed: 27.68 min\n",
      "Epoch: 022/050 | Batch 400/2324 | Loss: 3.4503\n",
      "Epoch: 022/050 | Batch 800/2324 | Loss: 3.5164\n",
      "Epoch: 022/050 | Batch 1200/2324 | Loss: 3.5024\n",
      "Epoch: 022/050 | Batch 1600/2324 | Loss: 3.5889\n",
      "Epoch: 022/050 | Batch 2000/2324 | Loss: 3.3989\n",
      "Epoch: 022/050 | Batch 2324/2324 | Loss: 3.4704\n",
      "Epoch: 022/050\n",
      "Train MAE: 10.89 | Validation MAE: 11.58\n",
      "Time elapsed: 27.66 min\n",
      "Epoch: 023/050 | Batch 400/2324 | Loss: 3.6556\n",
      "Epoch: 023/050 | Batch 800/2324 | Loss: 3.4293\n",
      "Epoch: 023/050 | Batch 1200/2324 | Loss: 3.4077\n"
     ]
    },
    {
     "name": "stdout",
     "output_type": "stream",
     "text": [
      "Epoch: 023/050 | Batch 1600/2324 | Loss: 3.5043\n",
      "Epoch: 023/050 | Batch 2000/2324 | Loss: 3.3793\n",
      "Epoch: 023/050 | Batch 2324/2324 | Loss: 3.4597\n",
      "Epoch: 023/050\n",
      "Train MAE: 11.47 | Validation MAE: 12.59\n",
      "Time elapsed: 29.02 min\n",
      "Epoch: 024/050 | Batch 400/2324 | Loss: 3.4253\n",
      "Epoch: 024/050 | Batch 800/2324 | Loss: 3.4017\n",
      "Epoch: 024/050 | Batch 1200/2324 | Loss: 3.4698\n",
      "Epoch: 024/050 | Batch 1600/2324 | Loss: 3.4250\n",
      "Epoch: 024/050 | Batch 2000/2324 | Loss: 3.5229\n",
      "Epoch: 024/050 | Batch 2324/2324 | Loss: 3.4037\n",
      "Epoch: 024/050\n",
      "Train MAE: 11.13 | Validation MAE: 12.09\n",
      "Time elapsed: 58.60 min\n",
      "Epoch: 025/050 | Batch 400/2324 | Loss: 3.2989\n",
      "Epoch: 025/050 | Batch 800/2324 | Loss: 3.3275\n",
      "Epoch: 025/050 | Batch 1200/2324 | Loss: 3.4254\n",
      "Epoch: 025/050 | Batch 1600/2324 | Loss: 3.5312\n",
      "Epoch: 025/050 | Batch 2000/2324 | Loss: 3.4924\n",
      "Epoch: 025/050 | Batch 2324/2324 | Loss: 3.4203\n",
      "Epoch: 025/050\n",
      "Train MAE: 11.52 | Validation MAE: 12.36\n",
      "Time elapsed: 27.68 min\n",
      "Epoch: 026/050 | Batch 400/2324 | Loss: 3.5149\n",
      "Epoch: 026/050 | Batch 800/2324 | Loss: 3.4977\n",
      "Epoch: 026/050 | Batch 1200/2324 | Loss: 3.5062\n",
      "Epoch: 026/050 | Batch 1600/2324 | Loss: 3.4763\n",
      "Epoch: 026/050 | Batch 2000/2324 | Loss: 3.3421\n",
      "Epoch: 026/050 | Batch 2324/2324 | Loss: 3.4175\n",
      "Epoch: 026/050\n",
      "Train MAE: 11.50 | Validation MAE: 12.44\n",
      "Time elapsed: 27.66 min\n",
      "Epoch: 027/050 | Batch 400/2324 | Loss: 3.1525\n",
      "Epoch: 027/050 | Batch 800/2324 | Loss: 3.3903\n",
      "Epoch: 027/050 | Batch 1200/2324 | Loss: 3.2355\n",
      "Epoch: 027/050 | Batch 1600/2324 | Loss: 3.3674\n",
      "Epoch: 027/050 | Batch 2000/2324 | Loss: 3.4297\n",
      "Epoch: 027/050 | Batch 2324/2324 | Loss: 3.4020\n",
      "Epoch: 027/050\n",
      "Train MAE: 12.57 | Validation MAE: 13.34\n",
      "Time elapsed: 27.85 min\n",
      "Epoch: 028/050 | Batch 400/2324 | Loss: 3.3505\n",
      "Epoch: 028/050 | Batch 800/2324 | Loss: 3.5143\n",
      "Epoch: 028/050 | Batch 1200/2324 | Loss: 3.4336\n",
      "Epoch: 028/050 | Batch 1600/2324 | Loss: 3.4028\n",
      "Epoch: 028/050 | Batch 2000/2324 | Loss: 3.4469\n",
      "Epoch: 028/050 | Batch 2324/2324 | Loss: 3.4606\n",
      "Epoch: 028/050\n",
      "Train MAE: 11.45 | Validation MAE: 12.26\n",
      "Time elapsed: 28.08 min\n",
      "Epoch: 029/050 | Batch 400/2324 | Loss: 3.4021\n",
      "Epoch: 029/050 | Batch 800/2324 | Loss: 3.4394\n",
      "Epoch: 029/050 | Batch 1200/2324 | Loss: 3.2493\n",
      "Epoch: 029/050 | Batch 1600/2324 | Loss: 3.5989\n",
      "Epoch: 029/050 | Batch 2000/2324 | Loss: 3.3363\n",
      "Epoch: 029/050 | Batch 2324/2324 | Loss: 3.2339\n",
      "Epoch: 029/050\n",
      "Train MAE: 11.79 | Validation MAE: 12.67\n",
      "Time elapsed: 27.97 min\n",
      "Epoch: 030/050 | Batch 400/2324 | Loss: 3.2344\n",
      "Epoch: 030/050 | Batch 800/2324 | Loss: 3.4882\n",
      "Epoch: 030/050 | Batch 1200/2324 | Loss: 3.3057\n",
      "Epoch: 030/050 | Batch 1600/2324 | Loss: 3.3422\n",
      "Epoch: 030/050 | Batch 2000/2324 | Loss: 3.5358\n",
      "Epoch: 030/050 | Batch 2324/2324 | Loss: 3.2114\n",
      "Epoch: 030/050\n",
      "Train MAE: 11.15 | Validation MAE: 12.09\n",
      "Time elapsed: 28.33 min\n"
     ]
    }
   ],
   "source": [
    "start_time = time.time()\n",
    "\n",
    "l = []\n",
    "train_mae_list, valid_mae_list = [], []\n",
    "train_mse_list, valid_mse_list = [], []\n",
    "train_acc_list, valid_acc_list = [], []\n",
    "\n",
    "for epoch in range(int(epochs)):\n",
    "    start = time.time()\n",
    "    for i, (images, labels) in enumerate(train_loader):\n",
    "        images = Variable(images.view(-1, inputDim))\n",
    "        \n",
    "        norm = torch.norm(images,dim=1)\n",
    "        dim = list(norm.size())[0]\n",
    "        norm = norm.reshape(dim, 1)\n",
    "        images = images/norm\n",
    "        \n",
    "        labels = Variable(labels)\n",
    "        \n",
    "        optimizer.zero_grad()\n",
    "        outputs = model(images)\n",
    "        \n",
    "        loss = criterion(outputs, labels)\n",
    "        l.append(loss.item())\n",
    "        loss.backward()\n",
    "        optimizer.step()\n",
    "        \n",
    "        if (not (i+1) % 400) or (i+1 == len(train_loader)):\n",
    "            print (f'Epoch: {epoch+1:03d}/{epochs:03d} | '\n",
    "                   f'Batch {i+1:03d}/{len(train_loader):03d} |' \n",
    "                   f' Loss: {loss.item():.4f}')\n",
    "    with torch.set_grad_enabled(False):\n",
    "        \n",
    "        train_mae, train_mse, train_acc = compute_mae_mse_acc(model, train_loader)\n",
    "        valid_mae, valid_mse, valid_acc = compute_mae_mse_acc(model, valid_loader)\n",
    " \n",
    "        print(f'Epoch: {epoch+1:03d}/{epochs:03d}\\n'\n",
    "              f'Train MAE: {train_mae:.2f} | Validation MAE: {valid_mae:.2f}')\n",
    "        \n",
    "        train_mae_list.append(train_mae)\n",
    "        valid_mae_list.append(valid_mae)\n",
    "        train_mse_list.append(train_mse)\n",
    "        valid_mse_list.append(valid_mse)\n",
    "        train_acc_list.append(train_acc)\n",
    "        valid_acc_list.append(valid_acc)\n",
    "        \n",
    "    elapsed = (time.time() - start)/60\n",
    "    print(f'Time elapsed: {elapsed:.2f} min')\n",
    "\n",
    "elapsed = (time.time() - start_time)/60\n",
    "print(f'Total Training Time: {elapsed:.2f} min')"
   ]
  },
  {
   "cell_type": "code",
   "execution_count": 18,
   "metadata": {},
   "outputs": [
    {
     "data": {
      "image/png": "[encoded data removed]",
      "text/plain": [
       "<Figure size 432x288 with 1 Axes>"
      ]
     },
     "metadata": {
      "needs_background": "light"
     },
     "output_type": "display_data"
    }
   ],
   "source": [
    "plt.plot(l, label='Minibatch loss')\n",
    "plt.plot(np.convolve(l, np.ones(200,)/200, mode='valid'), label='Running average')\n",
    "\n",
    "plt.ylabel('Cross Entropy')\n",
    "plt.xlabel('Iteration')\n",
    "plt.legend()\n",
    "plt.show()"
   ]
  },
  {
   "cell_type": "code",
   "execution_count": 24,
   "metadata": {},
   "outputs": [
    {
     "data": {
      "image/png": "[encoded data removed]",
      "text/plain": [
       "<Figure size 432x288 with 1 Axes>"
      ]
     },
     "metadata": {
      "needs_background": "light"
     },
     "output_type": "display_data"
    }
   ],
   "source": [
    "plt.plot(np.arange(1, 32), train_mae_list, label='Training')\n",
    "plt.plot(np.arange(1, 32), valid_mae_list, label='Validation')\n",
    "plt.ylim(2, 15)\n",
    "plt.xlabel('Epoch')\n",
    "plt.ylabel('Mean Absolute Error')\n",
    "plt.legend()\n",
    "plt.show()"
   ]
  },
  {
   "cell_type": "code",
   "execution_count": 25,
   "metadata": {},
   "outputs": [
    {
     "data": {
      "image/png": "[encoded data removed]",
      "text/plain": [
       "<Figure size 432x288 with 1 Axes>"
      ]
     },
     "metadata": {
      "needs_background": "light"
     },
     "output_type": "display_data"
    }
   ],
   "source": [
    "plt.plot(np.arange(1, 32), train_acc_list, label='Training')\n",
    "plt.plot(np.arange(1, 32), valid_acc_list, label='Validation')\n",
    "plt.ylim(0, 1)\n",
    "plt.xlabel('Epoch')\n",
    "plt.ylabel('Accuracy')\n",
    "plt.legend()\n",
    "plt.show()"
   ]
  },
  {
   "cell_type": "code",
   "execution_count": 26,
   "metadata": {},
   "outputs": [
    {
     "name": "stdout",
     "output_type": "stream",
     "text": [
      "Test MAE: 12.65\n",
      "Test MSE: 276.80\n",
      "Test ACC: 4.30%\n"
     ]
    }
   ],
   "source": [
    "with torch.set_grad_enabled(False):\n",
    "    test_mae, test_mse, test_acc = compute_mae_mse_acc(model=model, data_loader=test_loader)\n",
    "    \n",
    "print(f'Test MAE: {test_mae:.2f}')\n",
    "print(f'Test MSE: {test_mse:.2f}')\n",
    "print(f'Test ACC: {test_acc*100:.2f}%')"
   ]
  },
  {
   "cell_type": "code",
   "execution_count": 31,
   "metadata": {},
   "outputs": [],
   "source": [
    "torch.save(model.state_dict(), 'param3')"
   ]
  },
  {
   "cell_type": "code",
   "execution_count": 27,
   "metadata": {},
   "outputs": [
    {
     "data": {
      "text/plain": [
       "LogisticRegression(\n",
       "  (linear): Linear(in_features=62500, out_features=121, bias=True)\n",
       ")"
      ]
     },
     "execution_count": 27,
     "metadata": {},
     "output_type": "execute_result"
    }
   ],
   "source": [
    "model2 = LogisticRegression(inputDim, outputDim)\n",
    "model2.load_state_dict(torch.load('param'))\n",
    "model2.eval()"
   ]
  },
  {
   "cell_type": "code",
   "execution_count": 28,
   "metadata": {},
   "outputs": [
    {
     "name": "stdout",
     "output_type": "stream",
     "text": [
      "Test MAE: 10.83\n",
      "Test MSE: 211.68\n",
      "Test ACC: 4.67%\n"
     ]
    }
   ],
   "source": [
    "with torch.set_grad_enabled(False):\n",
    "    test_mae, test_mse, test_acc = compute_mae_mse_acc(model=model2, data_loader=test_loader)\n",
    "    \n",
    "print(f'Test MAE: {test_mae:.2f}')\n",
    "print(f'Test MSE: {test_mse:.2f}')\n",
    "print(f'Test ACC: {test_acc*100:.2f}%')"
   ]
  },
  {
   "cell_type": "code",
   "execution_count": null,
   "metadata": {},
   "outputs": [],
   "source": []
  }
 ],
 "metadata": {
  "kernelspec": {
   "display_name": "Python 3",
   "language": "python",
   "name": "python3"
  },
  "language_info": {
   "codemirror_mode": {
    "name": "ipython",
    "version": 3
   },
   "file_extension": ".py",
   "mimetype": "text/x-python",
   "name": "python",
   "nbconvert_exporter": "python",
   "pygments_lexer": "ipython3",
   "version": "3.7.3"
  }
 },
 "nbformat": 4,
 "nbformat_minor": 4
}
