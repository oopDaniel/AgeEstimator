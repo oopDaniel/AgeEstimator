{
 "cells": [
  {
   "cell_type": "code",
   "execution_count": 85,
   "metadata": {},
   "outputs": [],
   "source": [
    "import sys\n",
    "import os\n",
    "import matplotlib.image as img\n",
    "import matplotlib.pyplot as plt\n",
    "import pandas as pd\n",
    "import numpy as np\n",
    "from skimage.io import imread, imshow\n",
    "from skimage import filters\n",
    "from tensorflow.keras import utils\n",
    "from tensorflow.keras.preprocessing.image import ImageDataGenerator\n",
    "from tensorflow.keras.optimizers import *\n",
    "from tensorflow.keras.utils import to_categorical\n",
    "import tensorflow as tf\n",
    "import numpy as np\n",
    "import pandas\n",
    "import multiprocessing\n",
    "from scipy.cluster.vq import vq,kmeans,whiten\n",
    "import glob\n",
    "import random\n",
    "import shutil\n",
    "from keras.preprocessing import image\n",
    "from keras.applications.vgg16 import VGG16\n",
    "from keras.applications.vgg16 import preprocess_input\n",
    "from sklearn.decomposition import PCA\n",
    "\n"
   ]
  },
  {
   "cell_type": "code",
   "execution_count": 86,
   "metadata": {},
   "outputs": [],
   "source": [
    "module_root_name = \"AgeEstimator\"\n",
    "module_paths = [\n",
    "    os.path.abspath(os.path.join('..')),\n",
    "    os.path.abspath(os.path.join('../..')),\n",
    "    os.path.abspath(os.path.join('../../..'))\n",
    "]\n",
    "module_paths = list(filter(lambda x: x.endswith(module_root_name), module_paths))\n",
    "module_path = module_paths[0] if len(module_paths) == 1 else \"\"\n",
    "if module_path not in sys.path:\n",
    "    sys.path.append(module_path)"
   ]
  },
  {
   "cell_type": "code",
   "execution_count": 87,
   "metadata": {},
   "outputs": [],
   "source": [
    "from server.data.dataset import DataLoader"
   ]
  },
  {
   "cell_type": "code",
   "execution_count": 106,
   "metadata": {},
   "outputs": [],
   "source": [
    "vgg16_feature_list = []\n",
    "def getPic(x_train):\n",
    "    model = VGG16(include_top=True)\n",
    "    for i in range(0, len(x_train)):\n",
    "        pic = image.load_img(x_train[i], target_size=(224, 224))\n",
    "        img_data = image.img_to_array(pic)\n",
    "        \n",
    "        img_data = np.expand_dims(img_data, axis=0)\n",
    "        img_data = preprocess_input(img_data)\n",
    "\n",
    "        vgg16_feature = model.predict(img_data)\n",
    "        vgg16_feature_np = np.array(vgg16_feature)\n",
    "        vgg16_feature_list.append(vgg16_feature_np.flatten())\n",
    "    vgg16_feature_list_np = np.array(vgg16_feature_list)\n",
    "    #data=whiten(train)\n",
    "    print(\"load image done\")\n",
    "    \n",
    "    pca = PCA(n_components=0.9)# 保证降维后的数据保持90%的信息\n",
    "    vgg16_feature_list_np = pca.fit_transform(vgg16_feature_list_np)\n",
    "    #vgg16_feature_list_np = pca.transform(vgg16_feature_list_np)\n",
    "    print(\"PCA done\")\n",
    "    \n",
    "    from sklearn.cluster import MiniBatchKMeans, KMeans\n",
    "   \n",
    "    from sklearn.metrics.pairwise import pairwise_distances_argmin \n",
    "    \n",
    "    mbk = MiniBatchKMeans(n_clusters=16, init='k-means++', max_iter=100, batch_size=100, verbose=0, compute_labels=True, random_state=None, \n",
    "                    tol=0.0, max_no_improvement=10, init_size=None, n_init=3, reassignment_ratio=0.01)\n",
    "    \n",
    "    mbk.fit(vgg16_feature_list_np)\n",
    "    mbk_means_cluster_centers = np.sort(mbk.cluster_centers_, axis = 0) \n",
    "    mbk_means_labels = pairwise_distances_argmin(vgg16_feature_list_np, mbk_means_cluster_centers) \n",
    "    \n",
    "    # print the labels of each data \n",
    "    print(\"k-means done\")\n",
    "    fp = open('result.dat', 'w')\n",
    "    i = 0\n",
    "    for res in mbk_means_labels:\n",
    "        fp.write(str(res))\n",
    "        fp.write('\\t')\n",
    "        fp.write(str(y_train[i]))\n",
    "        i = i + 1\n",
    "        fp.write('\\n')\n",
    "    fp.close()\n",
    "    model.save('mbk_model.h5')"
   ]
  },
  {
   "cell_type": "code",
   "execution_count": 107,
   "metadata": {},
   "outputs": [
    {
     "name": "stdout",
     "output_type": "stream",
     "text": [
      "load image done\n",
      "PCA done\n",
      "k-means done\n"
     ]
    }
   ],
   "source": [
    "\n",
    "if __name__ == '__main__':\n",
    "    dl = DataLoader()\n",
    "    x_train, y_train = dl.load_train()\n",
    "    x_test, y_test = dl.load_test()\n",
    "    \n",
    "    \n",
    "    getPic(x_train)"
   ]
  },
  {
   "cell_type": "code",
   "execution_count": 49,
   "metadata": {},
   "outputs": [],
   "source": [
    "\n"
   ]
  },
  {
   "cell_type": "code",
   "execution_count": 52,
   "metadata": {},
   "outputs": [],
   "source": []
  },
  {
   "cell_type": "code",
   "execution_count": null,
   "metadata": {},
   "outputs": [],
   "source": []
  }
 ],
 "metadata": {
  "kernelspec": {
   "display_name": "Python 3",
   "language": "python",
   "name": "python3"
  },
  "language_info": {
   "codemirror_mode": {
    "name": "ipython",
    "version": 3
   },
   "file_extension": ".py",
   "mimetype": "text/x-python",
   "name": "python",
   "nbconvert_exporter": "python",
   "pygments_lexer": "ipython3",
   "version": "3.7.3"
  }
 },
 "nbformat": 4,
 "nbformat_minor": 2
}
