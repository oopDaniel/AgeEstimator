{
 "cells": [
  {
   "cell_type": "code",
   "execution_count": 4,
   "metadata": {},
   "outputs": [],
   "source": [
    "import glob\n",
    "import os\n",
    "import re\n",
    "import shutil\n",
    "import matplotlib.image as img\n",
    "import numpy as np\n",
    "import data_file_utils"
   ]
  },
  {
   "cell_type": "markdown",
   "metadata": {},
   "source": [
    "## Utils"
   ]
  },
  {
   "cell_type": "code",
   "execution_count": 3,
   "metadata": {},
   "outputs": [],
   "source": [
    "def resize_rgb_img(image, new_shape=(100, 100), file_name=None):\n",
    "    r\"\"\"Resize the given RGB image.\n",
    "\n",
    "    @Args:\n",
    "        image:      the image read by \"matplotlib.image.imread\"\n",
    "        new_shape:  tuple of dimension of new rows and new columns\n",
    "        file_name:  optional file name deciding saving the file on disk\n",
    "                    or return the resized image\n",
    "    @Returns:\n",
    "                    The resized image if no file name passed in\n",
    "    \"\"\"\n",
    "    assert(len(image.shape) == 3)  # row + col + channel\n",
    "    assert(image.shape[2] == 3)\n",
    "\n",
    "    new_rows, new_cols = new_shape\n",
    "\n",
    "    old_rows = image.shape[0]\n",
    "    old_cols = image.shape[1]\n",
    "\n",
    "    ratio_r = new_rows / old_rows\n",
    "    ratio_c = new_cols / old_cols\n",
    "\n",
    "    pos_row = np.floor(np.arange(old_rows * ratio_r) / ratio_r).astype('int64')\n",
    "    pos_col = np.floor(np.arange(old_cols * ratio_c) / ratio_c).astype('int64')\n",
    "\n",
    "    r = image[:, :, 0]\n",
    "    g = image[:, :, 1]\n",
    "    b = image[:, :, 2]\n",
    "\n",
    "    red = r[pos_row, :]\n",
    "    red = red[:, pos_col]\n",
    "    green = g[pos_row, :]\n",
    "    green = green[:, pos_col]\n",
    "    blue = b[pos_row, :]\n",
    "    blue = blue[:, pos_col]\n",
    "\n",
    "    output_img = np.zeros([new_rows, new_cols, 3])\n",
    "    output_img[:, :, 0] = red\n",
    "    output_img[:, :, 1] = green\n",
    "    output_img[:, :, 2] = blue\n",
    "\n",
    "    if file_name:\n",
    "        img.imsave(file_name, output_img.astype(np.uint8))\n",
    "\n",
    "    else:\n",
    "        return output_img"
   ]
  },
  {
   "cell_type": "code",
   "execution_count": 57,
   "metadata": {},
   "outputs": [],
   "source": [
    "def init_dir(dir_name):\n",
    "    try:\n",
    "        shutil.rmtree(dir_name)\n",
    "    except:\n",
    "        pass\n",
    "\n",
    "    os.mkdir(dir_name)"
   ]
  },
  {
   "cell_type": "markdown",
   "metadata": {},
   "source": [
    "## UTKFace"
   ]
  },
  {
   "cell_type": "code",
   "execution_count": 7,
   "metadata": {},
   "outputs": [],
   "source": [
    "def preprocess_utkface(target_dir, padding_digits=5):\n",
    "    for i, file_name in enumerate(glob.glob(\"utkface/*.jpg\")):\n",
    "        image = img.imread(file_name)\n",
    "\n",
    "        file_name = re.sub(r'^\\D+\\/', '', file_name)\n",
    "        age = data_file_utils.get_age_by_file_name(file_name)\n",
    "\n",
    "        resize_rgb_img(image, (250, 250), '%s/%d_utk_%s.jpg' % (\n",
    "            target_dir,\n",
    "            age,\n",
    "            str(i + 1).zfill(padding_digits)\n",
    "        ))"
   ]
  },
  {
   "cell_type": "markdown",
   "metadata": {},
   "source": [
    "## Main"
   ]
  },
  {
   "cell_type": "code",
   "execution_count": null,
   "metadata": {},
   "outputs": [],
   "source": [
    "def main():\n",
    "    target_dir = \"dim_unified\"\n",
    "    init_dir(target_dir)\n",
    "    preprocess_utkface(target_dir)"
   ]
  },
  {
   "cell_type": "code",
   "execution_count": null,
   "metadata": {},
   "outputs": [],
   "source": [
    "if __name__ == \"__main__\":\n",
    "    main()"
   ]
  }
 ],
 "metadata": {
  "kernelspec": {
   "display_name": "Python 3",
   "language": "python",
   "name": "python3"
  },
  "language_info": {
   "codemirror_mode": {
    "name": "ipython",
    "version": 3
   },
   "file_extension": ".py",
   "mimetype": "text/x-python",
   "name": "python",
   "nbconvert_exporter": "python",
   "pygments_lexer": "ipython3",
   "version": "3.7.0"
  }
 },
 "nbformat": 4,
 "nbformat_minor": 2
}
