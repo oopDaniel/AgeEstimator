{
 "cells": [
  {
   "cell_type": "code",
   "execution_count": 11,
   "metadata": {},
   "outputs": [],
   "source": [
    "import os\n",
    "import random\n",
    "import shutil\n",
    "import dirs"
   ]
  },
  {
   "cell_type": "code",
   "execution_count": 12,
   "metadata": {},
   "outputs": [],
   "source": [
    "def main():\n",
    "    dirs.init_dir()\n",
    "    \n",
    "    # Shuffle\n",
    "    random.shuffle(dirs.dataset_dir)\n",
    "    \n",
    "    # 80/20 split\n",
    "    n_test = len(dirs.dataset_dir) * 2 // 10\n",
    "\n",
    "    for src in dirs.dataset_dir[:n_test]:\n",
    "        dst = os.path.join(dirs.test_dir, os.path.split(src)[-1])\n",
    "        shutil.copyfile(src, dst)\n",
    "\n",
    "    for src in dirs.dataset_dir[n_test:]:\n",
    "        dst = os.path.join(dirs.train_dir, os.path.split(src)[-1])\n",
    "        shutil.copyfile(src, dst)"
   ]
  },
  {
   "cell_type": "code",
   "execution_count": 13,
   "metadata": {},
   "outputs": [],
   "source": [
    "if __name__ == \"__main__\":\n",
    "    main()"
   ]
  },
  {
   "cell_type": "code",
   "execution_count": null,
   "metadata": {},
   "outputs": [],
   "source": []
  }
 ],
 "metadata": {
  "kernelspec": {
   "display_name": "Python 3",
   "language": "python",
   "name": "python3"
  },
  "language_info": {
   "codemirror_mode": {
    "name": "ipython",
    "version": 3
   },
   "file_extension": ".py",
   "mimetype": "text/x-python",
   "name": "python",
   "nbconvert_exporter": "python",
   "pygments_lexer": "ipython3",
   "version": "3.7.0"
  }
 },
 "nbformat": 4,
 "nbformat_minor": 4
}
