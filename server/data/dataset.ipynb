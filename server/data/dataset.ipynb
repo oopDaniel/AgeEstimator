{
 "cells": [
  {
   "cell_type": "code",
   "execution_count": 15,
   "metadata": {},
   "outputs": [],
   "source": [
    "import glob\n",
    "import os\n",
    "from sklearn.model_selection import train_test_split\n",
    "import dirs\n",
    "import data_file_utils"
   ]
  },
  {
   "cell_type": "code",
   "execution_count": 21,
   "metadata": {},
   "outputs": [],
   "source": [
    "class DataLoader():\n",
    "    def __init__(self):\n",
    "        to_label = lambda x: data_file_utils.get_age_by_file_name(\n",
    "            os.path.split(x)[-1])\n",
    "        \n",
    "        self.x_train = glob.glob(os.path.join(dirs.train_dir, \"*.jpg\"))\n",
    "        self.x_test = glob.glob(os.path.join(dirs.test_dir, \"*.jpg\"))\n",
    "        self.y_train = list(map(to_label, self.x_train))\n",
    "        self.y_test = list(map(to_label, self.x_test))\n",
    "\n",
    "        \n",
    "    def load_train(self):\n",
    "        r\"\"\"File names of training data and their labels\"\"\"\n",
    "        return self.x_train, self.y_train\n",
    "    \n",
    "    def load_test(self):\n",
    "        r\"\"\"File names of test data and their labels\"\"\"\n",
    "        return self.x_test, self.y_test\n",
    "    \n",
    "    def load_train_val_split(self, shuffle=False):\n",
    "        r\"\"\"File names of training/validation data and\n",
    "            their labels\"\"\"\n",
    "        return train_test_split(\n",
    "            self.x_train, self.y_train, test_size=0.2, shuffle=shuffle)"
   ]
  },
  {
   "cell_type": "code",
   "execution_count": null,
   "metadata": {},
   "outputs": [],
   "source": []
  }
 ],
 "metadata": {
  "kernelspec": {
   "display_name": "Python 3",
   "language": "python",
   "name": "python3"
  },
  "language_info": {
   "codemirror_mode": {
    "name": "ipython",
    "version": 3
   },
   "file_extension": ".py",
   "mimetype": "text/x-python",
   "name": "python",
   "nbconvert_exporter": "python",
   "pygments_lexer": "ipython3",
   "version": "3.7.0"
  }
 },
 "nbformat": 4,
 "nbformat_minor": 4
}
